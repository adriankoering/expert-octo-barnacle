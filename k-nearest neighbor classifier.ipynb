{
 "cells": [
  {
   "cell_type": "markdown",
   "metadata": {},
   "source": [
    "## Exploring Machine Learning Basics\n",
    "\n",
    "by implementing a k-nearest neighbors classifier and applying it to the iris dataset."
   ]
  },
  {
   "cell_type": "markdown",
   "metadata": {},
   "source": [
    "The k-nearest neighbors algorithm classifies an object by calculating the distance to the objects given in the trainingdata. Then the closest objects are considered and the class of the unknown object is determined based on them.\n",
    "\n",
    "The objects are represented as 'feature-vectors', lists of numbers, where every number describes some measure of the object. Two feature-vectors can be compared by calculating the distance between them. \n",
    "\n",
    "Chossing the distance metric is somewhat arbitrary - the euclidean distance seems to be common. \n",
    "\n",
    "The *k* in the algorithm name stands for an integer. It determines how many close objects will be considered for coming up with a classification of the new object. Classifications with small *k*'s tend to be more affected by noise in the trainingdata, while large *k*'s might miss minute patterns in the data, if there is not enough data to support it."
   ]
  },
  {
   "cell_type": "code",
   "execution_count": 1,
   "metadata": {
    "collapsed": true
   },
   "outputs": [],
   "source": [
    "%matplotlib inline\n",
    "from collections import Counter\n",
    "import numpy as np\n",
    "from sklearn import datasets\n",
    "from sklearn.model_selection import train_test_split\n",
    "import matplotlib.pyplot as plt"
   ]
  },
  {
   "cell_type": "markdown",
   "metadata": {},
   "source": [
    "### Iris Dataset\n",
    "\n",
    "The iris dataset contains data describing the width and height of sepal and petal of three types of irises' - Setosa, Versicolour, and Virginica. More information can be foundon the [Scikit-learn page](http://scikit-learn.org/stable/auto_examples/datasets/plot_iris_dataset.html)"
   ]
  },
  {
   "cell_type": "code",
   "execution_count": 2,
   "metadata": {
    "collapsed": true
   },
   "outputs": [],
   "source": [
    "iris = datasets.load_iris()"
   ]
  },
  {
   "cell_type": "markdown",
   "metadata": {},
   "source": [
    "### Train Test Split\n",
    "\n",
    "Evaluating the classifier by having it classify the training data is usually a bad idea, because one will not be able to detect [overfitting](https://en.wikipedia.org/wiki/Overfitting)\n",
    "\n",
    "For a nearest neighbor classifier this is particulary relevant, as there always exists an object with zero distance in the trainingdata already.\n",
    "\n",
    "A train-test-split randomly shuffles the training data and then uses a fraction of it for training and the rest for testing the classifier. The test-data should be more representative of real-world-data the classifier will encouter later on."
   ]
  },
  {
   "cell_type": "code",
   "execution_count": 4,
   "metadata": {},
   "outputs": [
    {
     "data": {
      "text/plain": [
       "(112, 38)"
      ]
     },
     "execution_count": 4,
     "metadata": {},
     "output_type": "execute_result"
    }
   ],
   "source": [
    "X_train, X_test, y_train, y_test = train_test_split(iris.data,\n",
    "                                                    iris.target,\n",
    "                                                    test_size=0.25)\n",
    "# number of training and testing examples\n",
    "len(X_train), len(X_test)"
   ]
  },
  {
   "cell_type": "markdown",
   "metadata": {},
   "source": [
    "### KNN Implementation"
   ]
  },
  {
   "cell_type": "code",
   "execution_count": 5,
   "metadata": {
    "collapsed": true
   },
   "outputs": [],
   "source": [
    "class Knn:\n",
    "    def __init__(self, k=5):\n",
    "        \"\"\"\n",
    "        k-nearest-neighbor classifier. The programming interface is\n",
    "        based on scikit-learn, featuring 'fit(X, y)' to train the classifier\n",
    "        and 'predict(X)' to get predictions from the algorithm.\n",
    "        \n",
    "        Parameters\n",
    "        ----------\n",
    "        k : positive integer\n",
    "            the number of objects to be considered for \n",
    "            majority vote during classification.\n",
    "        \n",
    "        Example\n",
    "        -------\n",
    "        >>> clf = Knn(5)\n",
    "        ### Provide training data\n",
    "        >>> clf.fit(X_train, y_train)\n",
    "        ### Get predictions from the classifier\n",
    "        >>> clf.predict(X_test) \n",
    "        ### returns an element of y_train\n",
    "        \"\"\"\n",
    "        if k <= 0:\n",
    "            raise ValueError(\"Knn parameter 'k' must be positive\")\n",
    "        self._k = int(k)\n",
    "        \n",
    "    def _majority_vote(self, idx):\n",
    "        \"\"\"\n",
    "        Given the indexes of the k nearest neighbors\n",
    "            determine the most common label.\n",
    "        \n",
    "        Parameters\n",
    "        ----------\n",
    "        idx : array-like\n",
    "            Every element of idx should be a valid index into X provided\n",
    "            in the self.fit(X, y) function.\n",
    "            \n",
    "        Returns\n",
    "        -------\n",
    "        y[n] : label (element of y (from self.fit(X, y)))\n",
    "            The element of y that is most frequent within the selected\n",
    "            indices.\n",
    "        \"\"\"\n",
    "        ctr = Counter(self._y_train[idx])\n",
    "        # Counter.most_common returns a list of the '1' most common object\n",
    "        # every entry of the list is a two-tuple with (object, count)\n",
    "        return ctr.most_common(1)[0][0]\n",
    "        \n",
    "    def fit(self, X_train, y_train):\n",
    "        \"\"\" 'Fit' the classifier to the data. For a knn this means\n",
    "            keeping a copy of it around for later reference.\n",
    "        \n",
    "        Parameters\n",
    "        ----------\n",
    "        X_train : array-like\n",
    "            array containing the featurevectors of every object\n",
    "        y_train : array-like\n",
    "            array containing the labels of every object\n",
    "        \n",
    "            for any 'i' X_train[i] should correspond to y_train[i].\n",
    "            \n",
    "        Returns\n",
    "        -------\n",
    "            self \n",
    "            # eg. for self.fit(X_train, y_train).predict(X_test)\n",
    "        \"\"\"\n",
    "        # the array constructor ensures the existance of numpy arrays\n",
    "        # (rather than python lists) within this instance and will create a \n",
    "        # copy of the trianing data that is uneffected by future 'outside'\n",
    "        # manipulations\n",
    "        self._X_train = np.array(X_train)\n",
    "        self._y_train = np.array(y_train)\n",
    "        return self\n",
    "    \n",
    "    def predict(self, X_pred, k = None):\n",
    "        \"\"\" 'Predict' a label for every feature vector and return it.\n",
    "                \n",
    "        Parameters\n",
    "        ----------\n",
    "        X_pred : array-like\n",
    "            array containing the featurevectors of every object\n",
    "        k : positive integer\n",
    "            the number of objects to be considered for \n",
    "            majority vote during classification.\n",
    "        \n",
    "        Example\n",
    "        -------\n",
    "        >>> clf = Knn(5)\n",
    "        ### Provide training data\n",
    "        >>> clf.fit(X_train, y_train)\n",
    "        ### Get predictions from the classifier\n",
    "        >>> clf.predict(X_pred)\n",
    "        ### returns a vector y\n",
    "                    \n",
    "        Returns\n",
    "        -------\n",
    "        y : array-like\n",
    "            for all i y[i] contains the prediction for X_test[i]\n",
    "            all elements of y are taken from y_train\n",
    "    \n",
    "        \n",
    "        Complexity\n",
    "        ----------\n",
    "            O(len(X_test)*len(X_train))\n",
    "        \"\"\"\n",
    "        if k is None:\n",
    "            k = self._k\n",
    "        elif k <= 0:\n",
    "            raise ValueError(\"Knn parameter 'k' must be positive\")\n",
    "        \n",
    "        out = []\n",
    "        # ensure that the input X is at least two dimensional\n",
    "        # i.e. a list of feature vectors\n",
    "        # This is necesary for when X is a single feature vector.\n",
    "        X = np.atleast_2d(X_pred)\n",
    "        \n",
    "        for x in X:\n",
    "            # given a single feature vector (x)\n",
    "            # determine the label of the example\n",
    "            # based on majority vote of the nearest neighbors\n",
    "\n",
    "            # vector of elementwise distances\n",
    "            dist = np.linalg.norm(self._X_train - x, axis=1)\n",
    "            \n",
    "            # get the indexes of the k smallest instances\n",
    "            idx = np.argsort(dist)[:int(k)]\n",
    "            \n",
    "            # pass the nearest neighbors to the majority vote\n",
    "            # to determine the label\n",
    "            out.append(self._majority_vote(idx))\n",
    "            \n",
    "        return np.array(out)\n",
    "    \n",
    "    def accuracy(self, X_test, y_test, k = None):\n",
    "        \"\"\" Evaluate the accuracy of the classifier\n",
    "                \n",
    "        Parameters\n",
    "        ----------\n",
    "        X_test : array-like\n",
    "            array containing the feature vectors of every instance\n",
    "        y_test : array-like\n",
    "            array containig the ground truth labels of every instance \n",
    "        k : positive integer\n",
    "            the number of objects to be considered for \n",
    "            majority vote during classification.\n",
    "        \n",
    "        Example\n",
    "        -------\n",
    "        >>> clf = Knn(5)\n",
    "        ### Provide training data\n",
    "        >>> clf.fit(X_train, y_train)\n",
    "        ### Get predictions from the classifier\n",
    "        >>> print(clf.accuracy(X_test, y_test))\n",
    "                    \n",
    "        Returns\n",
    "        -------\n",
    "        accuracy : number in [0, 1]\n",
    "            the fraction of correct predictions over all predictions made\n",
    "    \n",
    "        \n",
    "        Complexity\n",
    "        ----------\n",
    "            O(len(X_test)*len(X_train))\n",
    "        \"\"\"\n",
    "        return np.mean(self.predict(X_test, k) == y_test)"
   ]
  },
  {
   "cell_type": "markdown",
   "metadata": {},
   "source": [
    "### Evaluating Accuracy and Overfitting"
   ]
  },
  {
   "cell_type": "code",
   "execution_count": 6,
   "metadata": {},
   "outputs": [
    {
     "data": {
      "text/plain": [
       "0.94736842105263153"
      ]
     },
     "execution_count": 6,
     "metadata": {},
     "output_type": "execute_result"
    }
   ],
   "source": [
    "clf = Knn(k=5)\n",
    "clf.fit(X_train, y_train)\n",
    "\n",
    "# KNN (k=5) Accuracy on test data\n",
    "clf.accuracy(X_test, y_test)"
   ]
  },
  {
   "cell_type": "code",
   "execution_count": 24,
   "metadata": {},
   "outputs": [
    {
     "data": {
      "text/plain": [
       "0.94736842105263153"
      ]
     },
     "execution_count": 24,
     "metadata": {},
     "output_type": "execute_result"
    }
   ],
   "source": [
    "# KNN (k=5) Accuracy on training data\n",
    "clf.accuracy(X_test, y_test)"
   ]
  },
  {
   "cell_type": "markdown",
   "metadata": {},
   "source": [
    "There is little difference between trainig and testing accuracy. Overfitting appears to be a little problem. To further investigate the question, we will consider multiple values of k inbetween 1 and 100 and compare the accuracy."
   ]
  },
  {
   "cell_type": "code",
   "execution_count": 25,
   "metadata": {},
   "outputs": [
    {
     "data": {
      "text/plain": [
       "<matplotlib.legend.Legend at 0x7ffacacb5c50>"
      ]
     },
     "execution_count": 25,
     "metadata": {},
     "output_type": "execute_result"
    },
    {
     "data": {
      "image/png": "[encoded data removed]",
      "text/plain": [
       "<matplotlib.figure.Figure at 0x7ffacaf85be0>"
      ]
     },
     "metadata": {},
     "output_type": "display_data"
    }
   ],
   "source": [
    "r = range(1, 100, 4)\n",
    "train_acc = [clf.accuracy(X_train, y_train, k) for k in r]\n",
    "test_acc  = [clf.accuracy(X_test,  y_test,  k) for k in r]\n",
    "\n",
    "plt.plot(r, train_acc)\n",
    "plt.plot(r, test_acc)\n",
    "plt.legend(['Training Accuracy', 'Testing Accuracy'])"
   ]
  },
  {
   "cell_type": "markdown",
   "metadata": {},
   "source": [
    "With this dataset, the best choice of k seems to be between 1 and 10. The testing accuracy surpasses the training accuracy for certain values of k lower than 20, indicating that overfitting should not significantly impact our classification accuracy. \n",
    "\n",
    "For three possible classes, a random classification would be expected to get an accuracy of 0.33. For increasing values of k, this  KNN classifier degrades towards random performance."
   ]
  },
  {
   "cell_type": "markdown",
   "metadata": {},
   "source": [
    "### Explore the error's made"
   ]
  },
  {
   "cell_type": "code",
   "execution_count": 26,
   "metadata": {},
   "outputs": [
    {
     "name": "stdout",
     "output_type": "stream",
     "text": [
      "[[ 10.   0.   0.]\n",
      " [  0.  14.   3.]\n",
      " [  0.   0.  11.]]\n"
     ]
    },
    {
     "data": {
      "text/plain": [
       "<matplotlib.text.Text at 0x18463ff9d68>"
      ]
     },
     "execution_count": 26,
     "metadata": {},
     "output_type": "execute_result"
    },
    {
     "data": {
      "image/png": "[encoded data removed]",
      "text/plain": [
       "<matplotlib.figure.Figure at 0x18463fd2f98>"
      ]
     },
     "metadata": {},
     "output_type": "display_data"
    }
   ],
   "source": [
    "# TODO replace with scikit learn version\n",
    "\n",
    "classes = [\"Setosa\", \"Versicolour\", \"Virginica\"]\n",
    "confusion = np.zeros((3,3))\n",
    "for x, y in zip(x_test, y_test):\n",
    "    confusion[clf.predict(x, k=10), y] += 1\n",
    "print(confusion)\n",
    "    \n",
    "plt.imshow(confusion, interpolation='nearest')\n",
    "plt.title(\"Confusion Matrix (k=10)\")\n",
    "plt.colorbar()\n",
    "tick_marks = np.arange(len(classes))\n",
    "plt.xticks(tick_marks, classes, rotation=45)\n",
    "plt.xlabel('Groundtruth')\n",
    "plt.yticks(tick_marks, classes)\n",
    "plt.ylabel('Prediction')"
   ]
  },
  {
   "cell_type": "markdown",
   "metadata": {},
   "source": [
    "The error look to be predictions of versicolour when virginicia is the groundtruth."
   ]
  },
  {
   "cell_type": "code",
   "execution_count": null,
   "metadata": {
    "collapsed": true
   },
   "outputs": [],
   "source": [
    "# TODO plot the decision plane somehow\n"
   ]
  },
  {
   "cell_type": "code",
   "execution_count": 15,
   "metadata": {},
   "outputs": [
    {
     "data": {
      "text/plain": [
       "array([1, 2, 0, 0, 1, 1, 1, 2, 0, 1, 0, 2, 0, 2, 1, 2, 0, 2, 0, 0, 0, 1, 1,\n",
       "       1, 1, 1, 2, 2, 0, 2, 2, 2, 0, 0, 2, 1, 0, 2])"
      ]
     },
     "execution_count": 15,
     "metadata": {},
     "output_type": "execute_result"
    }
   ],
   "source": [
    "Knn(k=5).fit(X_train, y_train).predict(X_test)"
   ]
  },
  {
   "cell_type": "code",
   "execution_count": null,
   "metadata": {
    "collapsed": true
   },
   "outputs": [],
   "source": []
  },
  {
   "cell_type": "code",
   "execution_count": null,
   "metadata": {
    "collapsed": true
   },
   "outputs": [],
   "source": []
  },
  {
   "cell_type": "code",
   "execution_count": null,
   "metadata": {
    "collapsed": true
   },
   "outputs": [],
   "source": []
  },
  {
   "cell_type": "code",
   "execution_count": null,
   "metadata": {
    "collapsed": true
   },
   "outputs": [],
   "source": []
  },
  {
   "cell_type": "code",
   "execution_count": null,
   "metadata": {
    "collapsed": true
   },
   "outputs": [],
   "source": []
  },
  {
   "cell_type": "code",
   "execution_count": null,
   "metadata": {
    "collapsed": true
   },
   "outputs": [],
   "source": []
  },
  {
   "cell_type": "code",
   "execution_count": null,
   "metadata": {
    "collapsed": true
   },
   "outputs": [],
   "source": []
  }
 ],
 "metadata": {
  "anaconda-cloud": {},
  "kernelspec": {
   "display_name": "Python 3",
   "language": "python",
   "name": "python3"
  },
  "language_info": {
   "codemirror_mode": {
    "name": "ipython",
    "version": 3
   },
   "file_extension": ".py",
   "mimetype": "text/x-python",
   "name": "python",
   "nbconvert_exporter": "python",
   "pygments_lexer": "ipython3",
   "version": "3.6.3"
  }
 },
 "nbformat": 4,
 "nbformat_minor": 1
}
