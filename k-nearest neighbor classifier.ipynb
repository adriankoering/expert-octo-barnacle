{
 "cells": [
  {
   "cell_type": "markdown",
   "metadata": {},
   "source": [
    "## Exploring Machine Learning Basics\n",
    "\n",
    "by implementing a k-nearest neighbors classifier and applying it to the iris dataset."
   ]
  },
  {
   "cell_type": "markdown",
   "metadata": {},
   "source": [
    "The k-nearest neighbors (Knn) algorithm is a supervised classification algorithm. It is differs from many other classification algorithms by almost not having any parameters that are 'learned' during training. Training a Knn involves providing training data consisting of an array of feature-vectors and an array of labels which are merely saved internally to be used later for predictions. To classify a new instance given as an feature-vector the distance of the new feature-vector to each of the previously saved feature-vectors is calculated. This step determines how close every neighbor of the new instance is to the new instance. Now the 'k' in Knn comes in. K is a parameter determinig how many of these neighbors are selected. From the selected set of instances the saved labels are looked up and the label that is most common within the selection is assigned to the new instance and returned by the classifier.\n",
    "\n",
    "The choice of k is the only explicit parameter to this algorithm. It determines how many of the nearest neighbors instances will be considered for voting on a classification. Small values for k tend to be more affected by noise in the training data, while large k-values might miss minute but significant patterns within the data.\n",
    "\n",
    "The assumption behind the distance-metric is that feature-vectors which are close in terms of distance are similiar and therefore are likely to belong to the same class. Chossing the distance metric is somewhat arbitrary - the euclidean distance is pretty commonly used, but is not perfect either. For example this metric does not differntiate along which dimension the distances accumulate, assigning every dimension equal weight - which will not always be correct.   "
   ]
  },
  {
   "cell_type": "code",
   "execution_count": 18,
   "metadata": {},
   "outputs": [],
   "source": [
    "%matplotlib inline\n",
    "from collections import Counter\n",
    "\n",
    "import numpy as np\n",
    "import matplotlib.pyplot as plt\n",
    "\n",
    "from sklearn import datasets\n",
    "from sklearn.model_selection import train_test_split\n",
    "from sklearn.metrics import confusion_matrix"
   ]
  },
  {
   "cell_type": "markdown",
   "metadata": {},
   "source": [
    "### Iris Dataset\n",
    "\n",
    "The iris dataset contains data describing the width and height of the sepal and petal of three types of irises' - Setosa, Versicolour, and Virginica. More information can be found on the [Scikit-learn page](http://scikit-learn.org/stable/auto_examples/datasets/plot_iris_dataset.html)"
   ]
  },
  {
   "cell_type": "code",
   "execution_count": 21,
   "metadata": {
    "collapsed": true
   },
   "outputs": [],
   "source": [
    "iris = datasets.load_iris()"
   ]
  },
  {
   "cell_type": "markdown",
   "metadata": {},
   "source": [
    "### Train Test Split\n",
    "\n",
    "Evaluating the classifier by having it classify the training data is usually a bad idea, because one will not be able to detect [overfitting](https://en.wikipedia.org/wiki/Overfitting)\n",
    "\n",
    "For a nearest neighbor classifier this is particular relevant, as testing using training data means that there will always exist an instance with zero distance already.\n",
    "\n",
    "A train-test-split randomly shuffles the training data and then uses a fraction of the data for training and the rest for testing the classifier. The benefit is that the test data should be more representative of real-world-data which the classifier will encouter later on.\n",
    "\n",
    "For reproducability the random_state is fixed, otherwise the results will differ between runs."
   ]
  },
  {
   "cell_type": "code",
   "execution_count": 22,
   "metadata": {},
   "outputs": [
    {
     "data": {
      "text/plain": [
       "(112, 38)"
      ]
     },
     "execution_count": 22,
     "metadata": {},
     "output_type": "execute_result"
    }
   ],
   "source": [
    "X_train, X_test, y_train, y_test = train_test_split(iris.data,\n",
    "                                                    iris.target,\n",
    "                                                    test_size=0.25,\n",
    "                                                    random_state=0)\n",
    "\n",
    "# number of training and testing examples\n",
    "len(X_train), len(X_test)"
   ]
  },
  {
   "cell_type": "markdown",
   "metadata": {},
   "source": [
    "### Knn Implementation"
   ]
  },
  {
   "cell_type": "code",
   "execution_count": 23,
   "metadata": {},
   "outputs": [],
   "source": [
    "class Knn:\n",
    "    def __init__(self, k=5):\n",
    "        \"\"\"\n",
    "        k-nearest-neighbor classifier. The programming interface is\n",
    "        based on scikit-learn, featuring 'fit(X, y)' to train the classifier\n",
    "        and 'predict(X)' to get predictions from the algorithm.\n",
    "        \n",
    "        Parameters\n",
    "        ----------\n",
    "        k : positive integer\n",
    "            the number of objects to be considered for \n",
    "            majority vote during classification.\n",
    "        \n",
    "        Example\n",
    "        -------\n",
    "        >>> clf = Knn(5)\n",
    "        ### Provide training data\n",
    "        >>> clf.fit(X_train, y_train)\n",
    "        ### Get predictions from the classifier\n",
    "        >>> clf.predict(X_test) \n",
    "        ### returns an element of y_train\n",
    "        \"\"\"\n",
    "        # call the property setter\n",
    "        # who does the verification\n",
    "        self.k = k\n",
    "        \n",
    "    def _check_parameter(self, k):\n",
    "        if k <= 0:\n",
    "            raise ValueError(\"Knn parameter 'k' must be positive\")\n",
    "        \n",
    "    @property\n",
    "    def k(self):\n",
    "        return self._k\n",
    "    \n",
    "    @k.setter\n",
    "    def k(self, k):\n",
    "        self._check_parameter(k)\n",
    "        self._k = int(k)\n",
    "        \n",
    "    def _majority_vote(self, idx):\n",
    "        \"\"\"\n",
    "        Given the indexes of the k nearest neighbors\n",
    "            determine the most common label.\n",
    "        \n",
    "        Parameters\n",
    "        ----------\n",
    "        idx : array-like\n",
    "            Every element of idx should be a valid index into X provided\n",
    "            in the self.fit(X, y) function.\n",
    "            \n",
    "        Returns\n",
    "        -------\n",
    "        y[n] : label (element of y (from self.fit(X, y)))\n",
    "            The element of y that is most frequent within the selected\n",
    "            indices.\n",
    "        \"\"\"\n",
    "        ctr = Counter(self._y_train[idx])\n",
    "        # Counter.most_common returns a list of the '1' most common object\n",
    "        # every entry of the list is a two-tuple with (object, count)\n",
    "        return ctr.most_common(1)[0][0]\n",
    "        \n",
    "    def fit(self, X_train, y_train):\n",
    "        \"\"\" 'Fit' the classifier to the data. For a knn this means\n",
    "            keeping a copy of it around for later reference.\n",
    "        \n",
    "        Parameters\n",
    "        ----------\n",
    "        X_train : array-like\n",
    "            array containing the featurevectors of every object\n",
    "        y_train : array-like\n",
    "            array containing the labels of every object\n",
    "        \n",
    "            for any 'i' X_train[i] should correspond to y_train[i].\n",
    "            \n",
    "        Returns\n",
    "        -------\n",
    "            self \n",
    "            # eg. for self.fit(X_train, y_train).predict(X_test)\n",
    "        \"\"\"\n",
    "        # the array constructor ensures the existance of numpy arrays\n",
    "        # (rather than python lists) within this instance and will create a \n",
    "        # copy of the trianing data that is uneffected by future 'outside'\n",
    "        # manipulations\n",
    "        self._X_train = np.array(X_train)\n",
    "        self._y_train = np.array(y_train)\n",
    "        return self\n",
    "    \n",
    "    def predict(self, X_pred, k = None):\n",
    "        \"\"\" 'Predict' a label for every feature vector and return it.\n",
    "                \n",
    "        Parameters\n",
    "        ----------\n",
    "        X_pred : array-like\n",
    "            array containing the featurevectors of every object\n",
    "        k : positive integer\n",
    "            the number of objects to be considered for \n",
    "            majority vote during classification.\n",
    "        \n",
    "        Example\n",
    "        -------\n",
    "        >>> clf = Knn(5)\n",
    "        ### Provide training data\n",
    "        >>> clf.fit(X_train, y_train)\n",
    "        ### Get predictions from the classifier\n",
    "        >>> clf.predict(X_pred)\n",
    "        ### returns a vector y\n",
    "                    \n",
    "        Returns\n",
    "        -------\n",
    "        y : array-like\n",
    "            for all i y[i] contains the prediction for X_test[i]\n",
    "            all elements of y are taken from y_train\n",
    "    \n",
    "        \n",
    "        Complexity\n",
    "        ----------\n",
    "            O(len(X_test)*len(X_train))\n",
    "        \"\"\"\n",
    "        if k is None:\n",
    "            k = self._k\n",
    "        self._check_parameter(k)\n",
    "        \n",
    "        out = []\n",
    "        # ensure that the input X is at least two dimensional\n",
    "        # i.e. a list of feature vectors\n",
    "        # This is necesary for when X is a single feature vector.\n",
    "        X = np.atleast_2d(X_pred)\n",
    "        \n",
    "        for x in X:\n",
    "            # given a single feature vector (x)\n",
    "            # determine the label of the example\n",
    "            # based on majority vote of the nearest neighbors\n",
    "\n",
    "            # vector of elementwise distances\n",
    "            dist = np.linalg.norm(self._X_train - x, axis=1)\n",
    "            \n",
    "            # get the indexes of the k smallest instances\n",
    "            idx = np.argsort(dist)[:int(k)]\n",
    "            \n",
    "            # pass the nearest neighbors to the majority vote\n",
    "            # to determine the label\n",
    "            out.append(self._majority_vote(idx))\n",
    "            \n",
    "        return np.array(out)\n",
    "    \n",
    "    def accuracy(self, X_test, y_test, k = None):\n",
    "        \"\"\" Evaluate the accuracy of the classifier\n",
    "                \n",
    "        Parameters\n",
    "        ----------\n",
    "        X_test : array-like\n",
    "            array containing the feature vectors of every instance\n",
    "        y_test : array-like\n",
    "            array containig the ground truth labels of every instance \n",
    "        k : positive integer\n",
    "            the number of objects to be considered for \n",
    "            majority vote during classification.\n",
    "        \n",
    "        Example\n",
    "        -------\n",
    "        >>> clf = Knn(5)\n",
    "        ### Provide training data\n",
    "        >>> clf.fit(X_train, y_train)\n",
    "        ### Get predictions from the classifier\n",
    "        >>> print(clf.accuracy(X_test, y_test))\n",
    "                    \n",
    "        Returns\n",
    "        -------\n",
    "        accuracy : number in [0, 1]\n",
    "            the fraction of correct predictions over all predictions made\n",
    "    \n",
    "        \n",
    "        Complexity\n",
    "        ----------\n",
    "            O(len(X_test)*len(X_train))\n",
    "        \"\"\"\n",
    "        return np.mean(self.predict(X_test, k) == y_test)"
   ]
  },
  {
   "cell_type": "markdown",
   "metadata": {},
   "source": [
    "### Evaluating Accuracy and Overfitting\n",
    "\n",
    "The accuracy of a classifier is the fraction of correct predictions over all predictions made. A small number means lots of misclassifications while a number close to one is desireable."
   ]
  },
  {
   "cell_type": "code",
   "execution_count": 25,
   "metadata": {},
   "outputs": [
    {
     "data": {
      "text/plain": [
       "0.97368421052631582"
      ]
     },
     "execution_count": 25,
     "metadata": {},
     "output_type": "execute_result"
    }
   ],
   "source": [
    "clf = Knn(k=5)\n",
    "clf.fit(X_train, y_train)\n",
    "\n",
    "# KNN (k=5) Accuracy on test data\n",
    "clf.accuracy(X_test, y_test)"
   ]
  },
  {
   "cell_type": "code",
   "execution_count": 26,
   "metadata": {},
   "outputs": [
    {
     "data": {
      "text/plain": [
       "0.97368421052631582"
      ]
     },
     "execution_count": 26,
     "metadata": {},
     "output_type": "execute_result"
    }
   ],
   "source": [
    "# KNN (k=5) Accuracy on training data\n",
    "clf.accuracy(X_test, y_test)"
   ]
  },
  {
   "cell_type": "markdown",
   "metadata": {},
   "source": [
    "There is no difference between trainig and testing accuracy in this case - hinting that overfitting is not a big problem. To further investigate the question of whether the classifier overfits, we will consider a range of values for k inbetween 1 and 100 and plot the accuracy."
   ]
  },
  {
   "cell_type": "code",
   "execution_count": 27,
   "metadata": {},
   "outputs": [
    {
     "data": {
      "text/plain": [
       "<matplotlib.legend.Legend at 0x7fb676428940>"
      ]
     },
     "execution_count": 27,
     "metadata": {},
     "output_type": "execute_result"
    },
    {
     "data": {
      "image/png": "[encoded data removed]",
      "text/plain": [
       "<matplotlib.figure.Figure at 0x7fb6764e2ba8>"
      ]
     },
     "metadata": {},
     "output_type": "display_data"
    }
   ],
   "source": [
    "r = range(1, 100, 4)\n",
    "train_acc = [clf.accuracy(X_train, y_train, k) for k in r]\n",
    "test_acc  = [clf.accuracy(X_test,  y_test,  k) for k in r]\n",
    "\n",
    "plt.plot(r, train_acc)\n",
    "plt.plot(r, test_acc)\n",
    "plt.legend(['Training Accuracy', 'Testing Accuracy'])"
   ]
  },
  {
   "cell_type": "markdown",
   "metadata": {},
   "source": [
    "With this split of the iris dataset, the testing accuracy is stable for k smaller than 20. The training accuracy decreases from 1 to 10, hinting at less overfitting with k equal to 10 rather than 1.\n",
    "For three possible classes, a random classification (guessing) would be expected be right in a third of the cases, resulting in an accuracy of 0.33. As can be seen from the graph, for increasing values of k the KNN classifier experiences a degradation in performance, but remains better than random."
   ]
  },
  {
   "cell_type": "markdown",
   "metadata": {},
   "source": [
    "### Exploring the errors made\n",
    "\n",
    "For debugging and optimization it is helpful to know if there are certain errors the classifier makes frequently. This can be seen from a confusion matrix. On the vertical the groundtruth label is plotted and the predicted labels are along the horizontal axis. In the confusion matrix the entry C[i, j] corresponds to how often the classifier classifies an instance that is in i-th class as belonging to the j-th class. If the classifier is perfect, all predicted labels equal their corresponding groundtruth labels and the confusion matrix has all non-zero values on the diagonal. Errors show themselfs as non-zero values in elements not on the diagonal."
   ]
  },
  {
   "cell_type": "code",
   "execution_count": 28,
   "metadata": {},
   "outputs": [
    {
     "name": "stdout",
     "output_type": "stream",
     "text": [
      "Confusion Matrix:\n",
      " [[13  0  0]\n",
      " [ 0 15  1]\n",
      " [ 0  0  9]]\n"
     ]
    },
    {
     "data": {
      "text/plain": [
       "<matplotlib.colorbar.Colorbar at 0x7fb6763559e8>"
      ]
     },
     "execution_count": 28,
     "metadata": {},
     "output_type": "execute_result"
    },
    {
     "data": {
      "image/png": "[encoded data removed]",
      "text/plain": [
       "<matplotlib.figure.Figure at 0x7fb6763c14a8>"
      ]
     },
     "metadata": {},
     "output_type": "display_data"
    }
   ],
   "source": [
    "labels = [\"Setosa\", \"Versicolour\", \"Virginica\"]\n",
    "C = confusion_matrix(y_test, clf.predict(X_test))\n",
    "print(\"Confusion Matrix:\\n\", C)\n",
    "\n",
    "plt.imshow(C, interpolation='nearest')\n",
    "plt.title(\"Confusion Matrix (k={})\".format(clf.k))\n",
    "tick_marks = np.arange(len(labels))\n",
    "plt.yticks(tick_marks, labels, rotation=45)\n",
    "plt.ylabel('Groundtruth')\n",
    "plt.xticks(tick_marks, labels)\n",
    "plt.xlabel('Prediction')\n",
    "plt.colorbar()"
   ]
  },
  {
   "cell_type": "markdown",
   "metadata": {},
   "source": [
    "In this case the classifier is relative accurate and only makes one mistake. This is in part due to the simplicity of the task but also the relatively large trainingset size (75%) compared to the testset size adds to that."
   ]
  },
  {
   "cell_type": "code",
   "execution_count": 9,
   "metadata": {
    "collapsed": true
   },
   "outputs": [],
   "source": [
    "#"
   ]
  },
  {
   "cell_type": "code",
   "execution_count": null,
   "metadata": {},
   "outputs": [],
   "source": []
  }
 ],
 "metadata": {
  "anaconda-cloud": {},
  "kernelspec": {
   "display_name": "Python 3",
   "language": "python",
   "name": "python3"
  },
  "language_info": {
   "codemirror_mode": {
    "name": "ipython",
    "version": 3
   },
   "file_extension": ".py",
   "mimetype": "text/x-python",
   "name": "python",
   "nbconvert_exporter": "python",
   "pygments_lexer": "ipython3",
   "version": "3.6.3"
  }
 },
 "nbformat": 4,
 "nbformat_minor": 1
}
