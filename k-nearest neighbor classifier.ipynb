{
 "cells": [
  {
   "cell_type": "markdown",
   "metadata": {},
   "source": [
    "## Exploring Machine Learning Basics\n",
    "\n",
    "by implementing a k-nearest neighbors classifier and applying it to the iris dataset."
   ]
  },
  {
   "cell_type": "markdown",
   "metadata": {},
   "source": [
    "The k-nearest neighbors algorithm classifies an object by calculating the distance to the objects given in the trainingdata. Then the closest objects are considered and the class of the unknown object is determined based on them.\n",
    "\n",
    "The objects are represented as 'feature-vectors', lists of numbers, where every number describes some measure of the object. Two feature-vectors can be compared by calculating the distance between them. \n",
    "\n",
    "Chossing the distance metric is somewhat arbitrary - the euclidean distance seems to be common. \n",
    "\n",
    "The *k* in the algorithm name stands for an integer. It determines how many close objects will be considered for coming up with a classification of the new object. Classifications with small *k*'s tend to be more affected by noise in the trainingdata, while large *k*'s might miss minute patterns in the data, if there is not enough data to support it."
   ]
  },
  {
   "cell_type": "code",
   "execution_count": 1,
   "metadata": {},
   "outputs": [],
   "source": [
    "%matplotlib inline\n",
    "from collections import Counter\n",
    "import numpy as np\n",
    "from sklearn import datasets\n",
    "from sklearn.model_selection import train_test_split\n",
    "import matplotlib.pyplot as plt"
   ]
  },
  {
   "cell_type": "markdown",
   "metadata": {},
   "source": [
    "### Iris Dataset\n",
    "\n",
    "The iris dataset contains data describing the width and height of sepal and petal of three types of irises' - Setosa, Versicolour, and Virginica. More information can be foundon the [Scikit-learn page](http://scikit-learn.org/stable/auto_examples/datasets/plot_iris_dataset.html)"
   ]
  },
  {
   "cell_type": "code",
   "execution_count": 12,
   "metadata": {},
   "outputs": [],
   "source": [
    "iris = datasets.load_iris()"
   ]
  },
  {
   "cell_type": "markdown",
   "metadata": {},
   "source": [
    "### Train Test Split\n",
    "\n",
    "Evaluating the classifier by having it classify the training data is usually a bad idea, because one will not be able to detect [overfitting](https://en.wikipedia.org/wiki/Overfitting)\n",
    "\n",
    "For a nearest neighbor classifier this is particulary relevant, as there always exists an object with zero distance in the trainingdata already.\n",
    "\n",
    "A train-test-split randomly shuffles the training data and then uses a fraction of it for training and the rest for testing the classifier. The test-data should be more representative of real-world-data the classifier will encouter later on."
   ]
  },
  {
   "cell_type": "code",
   "execution_count": 3,
   "metadata": {},
   "outputs": [
    {
     "data": {
      "text/plain": [
       "(112, 38)"
      ]
     },
     "execution_count": 3,
     "metadata": {},
     "output_type": "execute_result"
    }
   ],
   "source": [
    "x_train, x_test, y_train, y_test = train_test_split(iris.data,\n",
    "                                                    iris.target,\n",
    "                                                    test_size=0.25)\n",
    "# number of training and testing examples\n",
    "len(x_train), len(x_test)"
   ]
  },
  {
   "cell_type": "markdown",
   "metadata": {},
   "source": [
    "### KNN Implementation"
   ]
  },
  {
   "cell_type": "code",
   "execution_count": 4,
   "metadata": {
    "collapsed": true
   },
   "outputs": [],
   "source": [
    "class Knn:\n",
    "    def __init__(self, k=5):\n",
    "        \"\"\"\n",
    "        k-nearest-neighbor classifier. The programming interface is\n",
    "        based on scikit-learn, featuring 'fit(X, y)' to train the classifier\n",
    "        and 'predict(X)' to get predictions from the algoithm.\n",
    "        \n",
    "        Parameters\n",
    "        ----------\n",
    "        k : positive integer\n",
    "            the number of objects to be considered for \n",
    "            majority vote during classification.\n",
    "        \n",
    "        Example\n",
    "        -------\n",
    "        >>> clf = Knn(5)\n",
    "        ### Provide training data\n",
    "        >>> clf.fit(X, y)\n",
    "        ### Get predictions from the classifier\n",
    "        >>> clf.predict(Y) # -> returns y'\n",
    "        \"\"\"\n",
    "        if k <= 0:\n",
    "            raise ValueError(\"Knn parameter 'k' must be positive\")\n",
    "        self._k = int(k)\n",
    "        \n",
    "    def _majority_vote(self, idx):\n",
    "        \"\"\"\n",
    "        Given the indexes of the k nearet neighbors\n",
    "            determine the corresponding labels and\n",
    "            count how often they are present within \n",
    "            the neighborhood return the most frequent \n",
    "            label\n",
    "        \n",
    "        Parameters\n",
    "        ----------\n",
    "        idx : array-like\n",
    "            every element of idx should be a valid index into self._X.\n",
    "            \n",
    "        Returns\n",
    "        -------\n",
    "        y : label (element of self._y)\n",
    "            The element of self._y that is most frequent within the selected\n",
    "            indices.\n",
    "        \"\"\"\n",
    "        ctr = Counter(self._y[idx])\n",
    "        # Counter.most_common returns a list of the '1' most common object\n",
    "        # every entry of the list is a two-tuple with (object, count)\n",
    "        return ctr.most_common(1)[0][0]\n",
    "        \n",
    "    def fit(self, X, y):\n",
    "        \"\"\" 'Fit' the classifier to the data. For a knn this means\n",
    "            keeping a copy of it around for later reference.\n",
    "        \n",
    "        Parameters\n",
    "        ----------\n",
    "        X : array-like\n",
    "            array containing the featurevectors of every object\n",
    "        y : array-like\n",
    "            array containing the labels of every object\n",
    "        \n",
    "            for any 'i' X[i] should correspond to y[i].\n",
    "            \n",
    "        Returns\n",
    "        -------\n",
    "        None\n",
    "        \n",
    "        Complexity\n",
    "        ----------\n",
    "            O(n)\n",
    "        \"\"\"\n",
    "        # the array constructor will ensure the existance of \n",
    "        # numpy arrays within this instance and will create a \n",
    "        # copy of the trianing data to be uneffected by future\n",
    "        # 'outside' manipulations\n",
    "        self._X = np.array(X)\n",
    "        self._y = np.array(y)\n",
    "        return self\n",
    "    \n",
    "    def predict(self, X, k = None):\n",
    "        \"\"\" 'Predict' a label for every object and return it.\n",
    "                \n",
    "        Parameters\n",
    "        ----------\n",
    "        X : array-like\n",
    "            array containing the featurevectors of every object\n",
    "            \n",
    "        Returns\n",
    "        -------\n",
    "        y : array-like\n",
    "            array containing the labels of every object\n",
    "            for any 'i' X[i] will correspond to y[i].\n",
    "    \n",
    "        \n",
    "        Complexity\n",
    "        ----------\n",
    "            O(n)\n",
    "        \"\"\"\n",
    "        if k is None:\n",
    "            k = self._k\n",
    "        \n",
    "        out = []\n",
    "        # ensure that iterating over the first axis yields feature\n",
    "        # vectors and not elements from the feature vector\n",
    "        # (necessary when X is a single feature vector)\n",
    "        X = np.atleast_2d(X)\n",
    "        \n",
    "        for x in X:\n",
    "            # given a single example (x)\n",
    "            # determine the label of the example\n",
    "            # based on majority vote of the nearest neighbors\n",
    "\n",
    "            dist = np.linalg.norm(self._X - x, axis=1)\n",
    "            # get the indexes of the k smallest instances\n",
    "            idx = np.argsort(dist)[:k]\n",
    "            # pass the nearest neighbors to the majority vote\n",
    "            # determines the label\n",
    "            out.append(self._majority_vote(idx))\n",
    "        return np.array(out)"
   ]
  },
  {
   "cell_type": "markdown",
   "metadata": {},
   "source": [
    "### Evaluating Accuracy and Overfitting"
   ]
  },
  {
   "cell_type": "code",
   "execution_count": 14,
   "metadata": {},
   "outputs": [
    {
     "data": {
      "text/plain": [
       "1.0"
      ]
     },
     "execution_count": 14,
     "metadata": {},
     "output_type": "execute_result"
    }
   ],
   "source": [
    "clf = Knn(k=5)\n",
    "clf.fit(x_train, y_train)\n",
    "\n",
    "# KNN (k=5) Accuracy on test data\n",
    "np.mean(clf.predict(x_test) == y_test)"
   ]
  },
  {
   "cell_type": "code",
   "execution_count": 15,
   "metadata": {},
   "outputs": [
    {
     "data": {
      "text/plain": [
       "0.9732142857142857"
      ]
     },
     "execution_count": 15,
     "metadata": {},
     "output_type": "execute_result"
    }
   ],
   "source": [
    "# KNN (k=5) Accuracy on training data\n",
    "np.mean(clf.predict(x_train) == y_train)"
   ]
  },
  {
   "cell_type": "markdown",
   "metadata": {},
   "source": [
    "There is little difference between trainig and testing accuracy. Overfitting appears to be a little problem. To further investigate the question, we will consider multiple values of k inbetween 1 and 100 and compare the accuracy."
   ]
  },
  {
   "cell_type": "code",
   "execution_count": 16,
   "metadata": {},
   "outputs": [
    {
     "data": {
      "text/plain": [
       "<matplotlib.legend.Legend at 0x18463cf17f0>"
      ]
     },
     "execution_count": 16,
     "metadata": {},
     "output_type": "execute_result"
    },
    {
     "data": {
      "image/png": "[encoded data removed]",
      "text/plain": [
       "<matplotlib.figure.Figure at 0x18463743ef0>"
      ]
     },
     "metadata": {},
     "output_type": "display_data"
    }
   ],
   "source": [
    "acc_train, acc_test = [], []\n",
    "r = range(1, 100, 4)\n",
    "for k in r:\n",
    "    acc_test.append(np.mean(clf.predict(x_test, k) == y_test))\n",
    "    acc_train.append(np.mean(clf.predict(x_train, k) == y_train))\n",
    "    \n",
    "\n",
    "plt.plot(r, acc_test)\n",
    "plt.plot(r, acc_train)\n",
    "plt.legend(['Testing Accuracy', 'Training Accuracy'])"
   ]
  },
  {
   "cell_type": "markdown",
   "metadata": {},
   "source": [
    "With this dataset, the best choice of k seems to be between 1 and 10. The testing accuracy surpasses the training accuracy for certain values of k lower than 20, indicating that overfitting should not significantly impact our classification accuracy. \n",
    "\n",
    "For three possible classes, a random classification would be expected to get an accuracy of 0.33. For increasing values of k, this  KNN classifier degrades towards random performance."
   ]
  },
  {
   "cell_type": "markdown",
   "metadata": {},
   "source": [
    "### Explore the error's made"
   ]
  },
  {
   "cell_type": "code",
   "execution_count": 26,
   "metadata": {},
   "outputs": [
    {
     "name": "stdout",
     "output_type": "stream",
     "text": [
      "[[ 10.   0.   0.]\n",
      " [  0.  14.   3.]\n",
      " [  0.   0.  11.]]\n"
     ]
    },
    {
     "data": {
      "text/plain": [
       "<matplotlib.text.Text at 0x18463ff9d68>"
      ]
     },
     "execution_count": 26,
     "metadata": {},
     "output_type": "execute_result"
    },
    {
     "data": {
      "image/png": "[encoded data removed]",
      "text/plain": [
       "<matplotlib.figure.Figure at 0x18463fd2f98>"
      ]
     },
     "metadata": {},
     "output_type": "display_data"
    }
   ],
   "source": [
    "classes = [\"Setosa\", \"Versicolour\", \"Virginica\"]\n",
    "confusion = np.zeros((3,3))\n",
    "for x, y in zip(x_test, y_test):\n",
    "    confusion[clf.predict(x, k=10), y] += 1\n",
    "print(confusion)\n",
    "    \n",
    "plt.imshow(confusion, interpolation='nearest')\n",
    "plt.title(\"Confusion Matrix (k=10)\")\n",
    "plt.colorbar()\n",
    "tick_marks = np.arange(len(classes))\n",
    "plt.xticks(tick_marks, classes, rotation=45)\n",
    "plt.xlabel('Groundtruth')\n",
    "plt.yticks(tick_marks, classes)\n",
    "plt.ylabel('Prediction')"
   ]
  },
  {
   "cell_type": "markdown",
   "metadata": {},
   "source": [
    "The error look to be predictions of versicolour when virginicia is the groundtruth."
   ]
  },
  {
   "cell_type": "code",
   "execution_count": null,
   "metadata": {},
   "outputs": [],
   "source": [
    "# TODO plot the decision plane somehow\n"
   ]
  },
  {
   "cell_type": "code",
   "execution_count": null,
   "metadata": {},
   "outputs": [],
   "source": []
  },
  {
   "cell_type": "code",
   "execution_count": null,
   "metadata": {},
   "outputs": [],
   "source": []
  },
  {
   "cell_type": "code",
   "execution_count": null,
   "metadata": {},
   "outputs": [],
   "source": []
  },
  {
   "cell_type": "code",
   "execution_count": null,
   "metadata": {},
   "outputs": [],
   "source": []
  },
  {
   "cell_type": "code",
   "execution_count": null,
   "metadata": {},
   "outputs": [],
   "source": []
  },
  {
   "cell_type": "code",
   "execution_count": null,
   "metadata": {},
   "outputs": [],
   "source": []
  },
  {
   "cell_type": "code",
   "execution_count": null,
   "metadata": {
    "collapsed": true
   },
   "outputs": [],
   "source": []
  },
  {
   "cell_type": "code",
   "execution_count": null,
   "metadata": {
    "collapsed": true
   },
   "outputs": [],
   "source": []
  }
 ],
 "metadata": {
  "anaconda-cloud": {},
  "kernelspec": {
   "display_name": "Python 3",
   "language": "python",
   "name": "python3"
  },
  "language_info": {
   "codemirror_mode": {
    "name": "ipython",
    "version": 3
   },
   "file_extension": ".py",
   "mimetype": "text/x-python",
   "name": "python",
   "nbconvert_exporter": "python",
   "pygments_lexer": "ipython3",
   "version": "3.5.3"
  }
 },
 "nbformat": 4,
 "nbformat_minor": 1
}
